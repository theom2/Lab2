{
 "cells": [
  {
   "cell_type": "markdown",
   "metadata": {},
   "source": [
    "# President Trump's Approval Rating Polls"
   ]
  },
  {
   "cell_type": "markdown",
   "metadata": {},
   "source": [
    "In this lab we will be analyzing FiveThirtyEight data on President Trump's Approval Rating from January 20, 2017 to September 25, 2019. This data presents the number of people polled who approved and disapproved of President Trump, in addition to the sample size used by the pollster.\n",
    "\n",
    "We will be asking:\n",
    "1. What the mean sample size is?\n",
    "2. What the median sample size is?\n",
    "3. What the minimum sample size is?\n",
    "4. What the maximum sample size is?\n",
    "5. What the mode of the sample size data is?\n",
    "6. What the mean number of people who approve is?\n",
    "7. What the median number of people who approve  is?\n",
    "8. What the minimum number of people who approve  is?\n",
    "9. What the maximum number of people who approve  is?\n",
    "10. What the mode of the number of people who approve data is?\n",
    "11. What the mean number of people who disapprove is?\n",
    "12. What the median number of people who disapprove  is?\n",
    "13. What the minimum number of people who disapprove  is?\n",
    "14. What the maximum number of people who disapprove  is?\n",
    "15. What the mode of the number of people who disapprove data is?"
   ]
  },
  {
   "cell_type": "markdown",
   "metadata": {},
   "source": [
    "## Data Set Preparation"
   ]
  },
  {
   "cell_type": "code",
   "execution_count": 1,
   "metadata": {},
   "outputs": [],
   "source": [
    "import csv\n",
    "from scipy import stats;\n",
    "import math;"
   ]
  },
  {
   "cell_type": "markdown",
   "metadata": {},
   "source": [
    "Importing the csv, stats, and math libraries."
   ]
  },
  {
   "cell_type": "code",
   "execution_count": 2,
   "metadata": {},
   "outputs": [],
   "source": [
    "sampleSize = [];\n",
    "approve = [];\n",
    "disapprove = [];"
   ]
  },
  {
   "cell_type": "markdown",
   "metadata": {},
   "source": [
    "Here I created three lists which I will later add data to."
   ]
  },
  {
   "cell_type": "code",
   "execution_count": 3,
   "metadata": {},
   "outputs": [],
   "source": [
    "with open('approval_polllist.csv', 'r') as f:\n",
    "  reader = csv.reader(f)\n",
    "  approval_list = list(reader)"
   ]
  },
  {
   "cell_type": "markdown",
   "metadata": {},
   "source": [
    "Here I opened the file and read the file into a list of data called approval_list."
   ]
  },
  {
   "cell_type": "code",
   "execution_count": 4,
   "metadata": {},
   "outputs": [],
   "source": [
    "del approval_list[0];"
   ]
  },
  {
   "cell_type": "markdown",
   "metadata": {},
   "source": [
    "Here I deleted the header of the approval_list data, so as to not have titles."
   ]
  },
  {
   "cell_type": "code",
   "execution_count": 5,
   "metadata": {},
   "outputs": [],
   "source": [
    "for item in range(len(approval_list)):\n",
    "    sampleSize.append(float(approval_list[item][7]))\n",
    "    approve.append(float(approval_list[item][11]))\n",
    "    disapprove.append(float(approval_list[item][12]))"
   ]
  },
  {
   "cell_type": "markdown",
   "metadata": {},
   "source": [
    "Here I created three lists: sampleSize, approve and disapprove. I then sorted the data into the three lists (all floats)."
   ]
  },
  {
   "cell_type": "markdown",
   "metadata": {},
   "source": [
    "## Data Modeling"
   ]
  },
  {
   "cell_type": "code",
   "execution_count": 6,
   "metadata": {},
   "outputs": [
    {
     "name": "stdout",
     "output_type": "stream",
     "text": [
      "The smallest sample size is 121.0 and polled 39.0 approving of Trump and 57.0 disapproving of Trump\n",
      "The largest sample size is 55372.0 and polled 43.0 approving of Trump and 54.0 disapproving of Trump\n"
     ]
    }
   ],
   "source": [
    "min_sampleSize = min(sampleSize)\n",
    "max_sampleSize = max(sampleSize)\n",
    "indexMinS = sampleSize.index(min_sampleSize)\n",
    "indexMaxS = sampleSize.index(max_sampleSize)\n",
    "print(\"The smallest sample size is \" + str(min_sampleSize) + \" and polled \" + str(approve[indexMinS]) + \" approving of Trump and \" + str(disapprove[indexMinS]) + \" disapproving of Trump\")\n",
    "print(\"The largest sample size is \" + str(max_sampleSize) + \" and polled \" + str(approve[indexMaxS]) + \" approving of Trump and \" + str(disapprove[indexMaxS]) + \" disapproving of Trump\")"
   ]
  },
  {
   "cell_type": "markdown",
   "metadata": {},
   "source": [
    "Here I find the minimum and maximum sample size and their indices before printing the minimum, maximum and their corresponding approval and disapproval ratings. "
   ]
  },
  {
   "cell_type": "code",
   "execution_count": 7,
   "metadata": {},
   "outputs": [
    {
     "name": "stdout",
     "output_type": "stream",
     "text": [
      "The median sample size is 1500.0\n"
     ]
    }
   ],
   "source": [
    "sampleSize.sort();  # sort the list. It's that easy\n",
    "halfwayPoint = math.floor(len(sampleSize)/2);\n",
    "\n",
    "if (len(sampleSize) % 2) == 0: \n",
    "    medianS = (sampleSize[halfwayPoint] + sampleSize[halfwayPoint-1])/2;\n",
    "else: # the halfway point is an odd number, so the median is the middle number\n",
    "    medianS = sampleSize[halfwayPoint];\n",
    "print(\"The median sample size is \" + str(round(medianS,1)))"
   ]
  },
  {
   "cell_type": "markdown",
   "metadata": {},
   "source": [
    "Here I calculate the median sample size by sorting the sample size data and then finding the halfway point between the minimum and maximum. I then print the median."
   ]
  },
  {
   "cell_type": "code",
   "execution_count": 8,
   "metadata": {},
   "outputs": [
    {
     "name": "stdout",
     "output_type": "stream",
     "text": [
      "The mean sampleSize is 2075.445\n"
     ]
    }
   ],
   "source": [
    "totalS = 0.0\n",
    "for s in sampleSize:\n",
    "    totalS = totalS + s\n",
    "averageS = totalS/len(sampleSize)\n",
    "print(\"The mean sampleSize is \" + str(round(averageS,3)))"
   ]
  },
  {
   "cell_type": "markdown",
   "metadata": {},
   "source": [
    "Here I calculate the mean sample size by finding the total through a for loop before dividing it by the length and then printing it."
   ]
  },
  {
   "cell_type": "code",
   "execution_count": 9,
   "metadata": {},
   "outputs": [
    {
     "name": "stdout",
     "output_type": "stream",
     "text": [
      "ModeResult(mode=array([1500.]), count=array([2402]))\n"
     ]
    }
   ],
   "source": [
    "modeS = stats.mode(sampleSize)\n",
    "print(modeS)"
   ]
  },
  {
   "cell_type": "markdown",
   "metadata": {},
   "source": [
    "Finding and printing the mode of the sample size data by using the stats library."
   ]
  },
  {
   "cell_type": "markdown",
   "metadata": {},
   "source": [
    "### Approve"
   ]
  },
  {
   "cell_type": "code",
   "execution_count": 10,
   "metadata": {},
   "outputs": [],
   "source": [
    "minA = min(approve)\n",
    "maxA = max(approve)"
   ]
  },
  {
   "cell_type": "markdown",
   "metadata": {},
   "source": [
    "Here I find the minimum and maximum approval ratings."
   ]
  },
  {
   "cell_type": "code",
   "execution_count": 11,
   "metadata": {},
   "outputs": [
    {
     "name": "stdout",
     "output_type": "stream",
     "text": [
      "The median approval rating is 42.0\n"
     ]
    }
   ],
   "source": [
    "approve.sort();  # sort the list.\n",
    "halfwayPoint = math.floor(len(approve)/2);\n",
    "if (len(approve) % 2) == 0: \n",
    "    medianA = (approve[halfwayPoint] + approve[halfwayPoint-1])/2;\n",
    "else: # the halfway point is an odd number, so the median is the middle number\n",
    "    medianA = approve[halfwayPoint];\n",
    "print(\"The median approval rating is \" + str(round(medianA, 1)))"
   ]
  },
  {
   "cell_type": "markdown",
   "metadata": {},
   "source": [
    "Here I calculate the median approval rating by sorting the approval ratings and then finding the halfway point between the minimum and maximum. I then print the median."
   ]
  },
  {
   "cell_type": "code",
   "execution_count": 12,
   "metadata": {},
   "outputs": [
    {
     "name": "stdout",
     "output_type": "stream",
     "text": [
      "The mean approval rating is 42.321\n"
     ]
    }
   ],
   "source": [
    "totalA = 0.0\n",
    "for a in approve:\n",
    "    totalA = totalA + a\n",
    "averageA = totalA/len(approve)\n",
    "print(\"The mean approval rating is \" + str(round(averageA,3)))"
   ]
  },
  {
   "cell_type": "markdown",
   "metadata": {},
   "source": [
    "Here I calculate the mean approval rating by finding the total through a for loop before dividing it by the length and then printing it."
   ]
  },
  {
   "cell_type": "code",
   "execution_count": 13,
   "metadata": {},
   "outputs": [
    {
     "name": "stdout",
     "output_type": "stream",
     "text": [
      "ModeResult(mode=array([43.]), count=array([757]))\n"
     ]
    }
   ],
   "source": [
    "modeA = stats.mode(approve)\n",
    "print(modeA)"
   ]
  },
  {
   "cell_type": "markdown",
   "metadata": {},
   "source": [
    "Finding and printing the mode of the approval ratings by using the stats library."
   ]
  },
  {
   "cell_type": "code",
   "execution_count": 14,
   "metadata": {},
   "outputs": [
    {
     "name": "stdout",
     "output_type": "stream",
     "text": [
      "The minimum approval rating is 23.9\n",
      "The maximum approval rating is 59.0\n"
     ]
    }
   ],
   "source": [
    "print(\"The minimum approval rating is \" + str(minA))\n",
    "print(\"The maximum approval rating is \" + str(maxA))"
   ]
  },
  {
   "cell_type": "markdown",
   "metadata": {},
   "source": [
    "Printing the minimum and maximum approval ratings."
   ]
  },
  {
   "cell_type": "markdown",
   "metadata": {},
   "source": [
    "### Disapprove"
   ]
  },
  {
   "cell_type": "code",
   "execution_count": 15,
   "metadata": {},
   "outputs": [],
   "source": [
    "minD = min(disapprove)\n",
    "maxD = max(disapprove)"
   ]
  },
  {
   "cell_type": "markdown",
   "metadata": {},
   "source": [
    "Here I find the minimum and maximum disapproval ratings."
   ]
  },
  {
   "cell_type": "code",
   "execution_count": 16,
   "metadata": {},
   "outputs": [
    {
     "name": "stdout",
     "output_type": "stream",
     "text": [
      "The minimum disapproval rating is 35.0\n",
      "The maximum disapproval rating is 75.9\n"
     ]
    }
   ],
   "source": [
    "print(\"The minimum disapproval rating is \" + str(minD))\n",
    "print(\"The maximum disapproval rating is \" + str(maxD))"
   ]
  },
  {
   "cell_type": "markdown",
   "metadata": {},
   "source": [
    "Here I print the minimum and maximum disapproval ratings."
   ]
  },
  {
   "cell_type": "code",
   "execution_count": 17,
   "metadata": {},
   "outputs": [
    {
     "name": "stdout",
     "output_type": "stream",
     "text": [
      "The median disapproval rating is 53.9\n"
     ]
    }
   ],
   "source": [
    "disapprove.sort();  # sort the list.\n",
    "halfwayPoint = math.floor(len(disapprove)/2);\n",
    "if (len(disapprove) % 2) == 0: \n",
    "    medianD = (disapprove[halfwayPoint] + disapprove[halfwayPoint-1])/2;\n",
    "else: # the halfway point is an odd number, so the median is the middle number\n",
    "    medianD = disapprove[halfwayPoint];\n",
    "print(\"The median disapproval rating is \" + str(round(medianD, 1)))"
   ]
  },
  {
   "cell_type": "markdown",
   "metadata": {},
   "source": [
    "Here I calculate the median disapproval rating by sorting the disapproval ratings and then finding the halfway point between the minimum and maximum. I then print the median."
   ]
  },
  {
   "cell_type": "code",
   "execution_count": 18,
   "metadata": {},
   "outputs": [
    {
     "name": "stdout",
     "output_type": "stream",
     "text": [
      "The mean disapproval rating is 53.587\n"
     ]
    }
   ],
   "source": [
    "totalD = 0.0\n",
    "for d in disapprove:\n",
    "    totalD = totalD + d\n",
    "averageD = totalD/len(disapprove)\n",
    "print(\"The mean disapproval rating is \" + str(round(averageD,3)))"
   ]
  },
  {
   "cell_type": "markdown",
   "metadata": {},
   "source": [
    "Here I calculate the mean disapproval rating by finding the total through a for loop before dividing it by the length and then printing it."
   ]
  },
  {
   "cell_type": "code",
   "execution_count": 19,
   "metadata": {},
   "outputs": [
    {
     "name": "stdout",
     "output_type": "stream",
     "text": [
      "ModeResult(mode=array([54.]), count=array([1063]))\n"
     ]
    }
   ],
   "source": [
    "modeD = stats.mode(disapprove)\n",
    "print(modeD)"
   ]
  },
  {
   "cell_type": "markdown",
   "metadata": {},
   "source": [
    "Finding and printing the mode of the disapproval ratings by using the stats library."
   ]
  },
  {
   "cell_type": "markdown",
   "metadata": {},
   "source": [
    "## Analysis"
   ]
  },
  {
   "cell_type": "markdown",
   "metadata": {},
   "source": [
    "The poll with the smallest sample size was one that only polled 121 people, this poll found that 39% of those polled supported President Trump and 57% disapproved of trump, meaning 4% of people neither approved nor disapproved of President Trump. \n",
    "Meanwhile the poll with the largest sample size was one that polled 55,372 people and found that 43% of those polled supported Trump and 54% disapproved of President Trump. \n",
    "Both polls found similar results: More people disapproved of President Trump than approved of him. However, the poll with the larger sample size recieved results closer to the median approval and disapproval rates: 42.0% and 53.9% respectively."
   ]
  },
  {
   "cell_type": "markdown",
   "metadata": {},
   "source": [
    "The mean approval rate was 42.321, which was similar to the median approval rating, 42.0, and the mode of the approval rating data, 43. 1063 polls found that 43% of people approved of President Trump. This signifies little-to-no skew in polled approval rating. The mean disapproval rating was 53.587%, which was also similar to the median, 53.9%, and the mode of the disapproval rating data, 54. 1063 polls found that 54% of people disapproved of Trump. "
   ]
  },
  {
   "cell_type": "markdown",
   "metadata": {},
   "source": [
    "The lowest approval rate for President Trump was 23.9%, which would be lower than President Nixon's lowest approval rating, 24%, and just above the lowest approval rating of any President, President Truman's 22% approval rating. Meanwhile, President Trump's highest approval rating was 59%, meaning a little over 1/2 of those polled approved of Trump's Presidency. "
   ]
  },
  {
   "cell_type": "markdown",
   "metadata": {},
   "source": [
    "The lowest disapproval rate for President Trump was 35.0%, which is quite a bit lower than the median and mean disapproval ratings. Meanwhile, President Trump's highest disapproval rating was 75.9%, meaning a little over 3/4 of people polled did not support Trump's Presidency. "
   ]
  },
  {
   "cell_type": "markdown",
   "metadata": {},
   "source": [
    "Given the similarities in the medians and means of the data, there seems to be little skew in the data. Additionally, the smallest poll was skewed left, while the largest poll was very central. This represents how a larger sample size tends to reduce bias. "
   ]
  },
  {
   "cell_type": "markdown",
   "metadata": {},
   "source": [
    "## Conclusion"
   ]
  },
  {
   "cell_type": "markdown",
   "metadata": {},
   "source": [
    "Over a little less than three years of President Trump's term, from January 20, 2017 to September 25, 2019, the mean and median approval ratings have been lower than 50% (a simple majority). This is significant as it would suggest the American population does not want Trump in the office of President of The United States. This means little when it comes to 2020 election, however. Given President Trump won the 2016 election without winning the general election possibly due to a voter turnout of only 55.7%. A similar situation could occur in 2020, where President Trump could lose the popular vote but win the general election. "
   ]
  },
  {
   "cell_type": "markdown",
   "metadata": {},
   "source": [
    "Looking at the results of data analysis, I was suprised by how 59% of the population at one time approved of Trump's presidency. While this is a low approval rating, it is quite high given how low the median of 42.0% is. "
   ]
  },
  {
   "cell_type": "markdown",
   "metadata": {},
   "source": [
    "I was additionally surprised by how small the smallest poll was, I find it odd how only 121 people were polled for a presidential approval rating. Given these polls are voluntary polls, I am curious as to whether the left skew present in this poll was a result of only extremists on both sides wanting to respond to the poll."
   ]
  },
  {
   "cell_type": "markdown",
   "metadata": {},
   "source": [
    "In the future, it would be interesting to find out on what dates these peaks and valleys occur to look into what actions taken by President Trump cause increased or decreased support among the American People. It would also be interesting to find out who is doing the polls to find political bias present in different pollsters. "
   ]
  },
  {
   "cell_type": "markdown",
   "metadata": {},
   "source": [
    "Another possibility for the future would be to create data visualizations of the data to see how President Trump's approval has changed over time. "
   ]
  },
  {
   "cell_type": "markdown",
   "metadata": {},
   "source": [
    "## Acknowledgements"
   ]
  },
  {
   "cell_type": "markdown",
   "metadata": {},
   "source": [
    "Many thanks to Navya Mangipudi and Ms. Sconyers for their much appreciated help.\n",
    "Additional thanks to StackOverflow for help reading in a file.\n",
    "Additional thanks to Ms. Sconyers for providing me with code.\n",
    "Additional thanks to Scott for providing me with much needed emotional encouragement.\n",
    "Additional thanks to The American Presidency Project for lowest approval ratings for both Nixon and Truman. Further thanks to the Federal Election Commission for data on voter turnup for the 2016 election. "
   ]
  }
 ],
 "metadata": {
  "kernelspec": {
   "display_name": "Python 3",
   "language": "python",
   "name": "python3"
  },
  "language_info": {
   "codemirror_mode": {
    "name": "ipython",
    "version": 3
   },
   "file_extension": ".py",
   "mimetype": "text/x-python",
   "name": "python",
   "nbconvert_exporter": "python",
   "pygments_lexer": "ipython3",
   "version": "3.7.3"
  }
 },
 "nbformat": 4,
 "nbformat_minor": 2
}
